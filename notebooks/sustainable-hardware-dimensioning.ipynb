{
 "cells": [
  {
   "cell_type": "code",
   "execution_count": 1,
   "id": "4bd2dc3d-98f9-4c62-861e-e278f6d1e37a",
   "metadata": {},
   "outputs": [],
   "source": [
    "# ============================================================\n",
    "# Notebook setup: run this before everything\n",
    "# ============================================================\n",
    "\n",
    "%load_ext autoreload\n",
    "%autoreload 2\n",
    "\n",
    "# Control figure size\n",
    "interactive_figures = False\n",
    "if interactive_figures:\n",
    "    # Normal behavior\n",
    "    %matplotlib widget\n",
    "    figsize=(9, 3)\n",
    "else:\n",
    "    # PDF export behavior\n",
    "    figsize=(14, 5)\n",
    "\n",
    "#from matplotlib import pyplot as plt\n",
    "from util import util\n",
    "#from scipy.integrate import odeint\n",
    "import numpy as np\n",
    "import pandas as pd\n",
    "#from skopt.space import Space\n",
    "#from eml.net.reader import keras_reader"
   ]
  },
  {
   "cell_type": "markdown",
   "id": "10a91681-7e62-40a9-b6b8-8d641791d19b",
   "metadata": {},
   "source": [
    "# Case study: Sustainable Hardware Dimensioning\n",
    "\n",
    "With widely recognised power-hungry and expensive training algorithms, deep learning has begun to address its carbon footprint. Machine learning (ML) models have grown exponentially in size over the past few years, with some algorithms training for thousands of core-hours, and the associated energy consumption and cost have become a growing concern [Green AI paper]. \n",
    "\n",
    "Previous studies have made advances in estimating GHG emissions of computation, and have attempted in providing general and easy-to-use methodologies for estimating carbon footprint that can be applied to any computational task [Green Algorithms paper].\n",
    "\n",
    "In this work, we explore the dimension of finding the the best Hardware architecture and its dimensioning for AI algorithms, while respecting constraints in terms of carbon emissions. Previous work [HADA paper] has focused on HW Dimensioning for AI algorithms with constraints on budget, time and solution quality. This problem is called Hardware Dimensioning. In this work, we aim at extending this approach by also considering constraints on carbon emissions of the computations, and we name this problem Sustainable Hardware Dimensioning.\n",
    "\n",
    "The HADA approach is based on the Empirical Model Learning paradigm [EML paper], which integrates Machine Learning (ML) models into an optimisation problem. The key idea is to integrate domain knowledge held by experts with data-driven models that learn the relationships between HW requirements and AI algorithm performances, which would be very complex to express formally in a suitable model. The approach starts with benchmarking multiple AI algorithms on different HW resources, generating data used to train ML models; then, optimisation is used to find the best [HW configuration](https://www.sciencedirect.com/topics/computer-science/hardware-configuration) that respects user-defined constraints.\n",
    "\n",
    "# Methodology\n",
    "\n",
    "At the basis of our approach is the Empirical Model Learning (EML) paradigm. Broadly speaking, EML deals with solving declarative optimisation models with a complex component $h$, which represents the relation between variables which can be acted upon $x$ (the decision variables) and the observables related to the system considered; the function $h(x) = y$ describes this relationships. As the $h(x)$ is complex, we cannot optimise directly over it. Hence, we exploit empirical knowledge to build a surrogate model $h_\\theta(x)$ learned from data, where $\\theta$ is the parameter vector.\n",
    "\n",
    "HADA (HArdware Dimensioning of AI Algorithms), is then constituted of three main phases\n",
    "\n",
    "1. data set collection (benchmarking phase) - an initial phase to collect the data set by running multiple times the target algorithms, under different configurations;\n",
    "2. surrogate model creation - once a training set is available, a set of ML models is then trained on such data and then these models are encoded as a set of variables and constraints following EML paradigm;\n",
    "3. optimisation – post the user-defined constraints and objective function on top of the combinatorial structure formed by the encoded ML models and the domain-knowledge constraints, and finally solve the optimisation model (either until an optimal solution or a time limit is reached.\n",
    "\n",
    "## Dataset Collection\n",
    "\n",
    "The training set was built based on grounding the two stochastic algorithms, i.e., anticipate and contingency [32, 4] from the energy management system domain. The two algorithms calculate the amount of energy that must be produced by the energy system to meet the required load, minimising the total energy cost over the daily time horizon and by taking into account the uncertainty. Both the algorithms divide the daily time horizon into 96 15-minutes time intervals.\n",
    "\n",
    "### Input data\n",
    "\n",
    "The input data is a set of 30 different instance realisations, each one representing one daily time horizon. For each day, we have **Load**, which is a 96-valued vector of the load observations sampled at each interval (every 15 minutes over the course of a day), and **PV**, a 96-valued vector representing the observations of available Photovoltaic energy production. Here we can see an example of the first two instances:"
   ]
  },
  {
   "cell_type": "code",
   "execution_count": 2,
   "id": "a6f2df48-e64c-463c-868c-be035158ad22",
   "metadata": {},
   "outputs": [
    {
     "data": {
      "text/html": [
       "<style type=\"text/css\">\n",
       "#T_bcef9_row0_col0, #T_bcef9_row0_col1, #T_bcef9_row1_col0, #T_bcef9_row1_col1 {\n",
       "  text-align: left;\n",
       "}\n",
       "</style>\n",
       "<table id=\"T_bcef9\">\n",
       "  <thead>\n",
       "    <tr>\n",
       "      <th class=\"blank level0\" >&nbsp;</th>\n",
       "      <th id=\"T_bcef9_level0_col0\" class=\"col_heading level0 col0\" >PV(kW)</th>\n",
       "      <th id=\"T_bcef9_level0_col1\" class=\"col_heading level0 col1\" >Load(kW)</th>\n",
       "    </tr>\n",
       "  </thead>\n",
       "  <tbody>\n",
       "    <tr>\n",
       "      <th id=\"T_bcef9_level0_row0\" class=\"row_heading level0 row0\" >0</th>\n",
       "      <td id=\"T_bcef9_row0_col0\" class=\"data row0 col0\" >[  0.    0.    0.    0.    0.    0.    0.    0.    0.    0.    0.    0.\n",
       "   0.    0.    0.   10.4  20.4  29.8  25.9  37.6  54.9  58.6 114.2 122.2\n",
       " 241.2 288.2 265.  293.7 387.4 563.  560.9 447.7 569.6 555.8 307.2 693.7\n",
       " 718.5 767.9 664.5 724.  651.2 692.  650.5 673.5 378.8 720.2 654.4 417.8\n",
       " 546.  403.8 715.  517.1 581.9 669.2 629.5 672.7 640.5 653.5 655.6 655.1\n",
       " 416.2 318.9 569.6 523.5 511.  485.5 314.1 265.8 153.8  93.  110.5 148.\n",
       " 275.5 223.1  88.2  71.   58.8  31.8  32.8  12.9  21.3  23.9  20.4   0.\n",
       "   0.    0.    0.    0.    0.    0.    0.    0.    0.    0.    0.    0. ]</td>\n",
       "      <td id=\"T_bcef9_row0_col1\" class=\"data row0 col1\" >[106.9 130.3 140.2  98.7  85.  127.4 132.  115.3 130.3  89.4  84.3  90.9\n",
       " 104.7  97.   97.2  95.3  81.6 107.3  82.  102.6 108.9  81.2 108.   83.7\n",
       " 149.4 172.7 181.9 202.5 259.5 330.1 375.8 365.2 307.7 442.7 299.7 239.9\n",
       " 287.7 367.2 305.9 256.  322.4 399.1 276.6 258.9 281.1 266.7 306.2 289.1\n",
       " 296.5 346.8 235.7 236.3 240.1 228.2 277.4 251.5 274.8 291.5 325.6 363.3\n",
       " 317.  331.7 293.  346.5 385.5 384.1 351.7 395.3 596.6 443.5 585.6 561.8\n",
       " 491.7 616.5 562.3 438.4 432.3 563.6 628.8 448.1 581.8 531.6 551.6 433.3\n",
       " 701.6 635.7 580.8 544.6 561.5 656.2 408.2 414.3 387.8 353.7 311.2 230.4]</td>\n",
       "    </tr>\n",
       "    <tr>\n",
       "      <th id=\"T_bcef9_level0_row1\" class=\"row_heading level0 row1\" >1</th>\n",
       "      <td id=\"T_bcef9_row1_col0\" class=\"data row1 col0\" >[  0.    0.    0.    0.    0.    0.    0.    0.    0.    0.    0.    0.\n",
       "   0.    0.    0.   14.4  20.4  29.8  25.9  42.   56.7  60.7 114.2 133.5\n",
       " 253.6 288.2 265.  293.7 387.4 519.1 560.9 457.3 532.3 532.6 269.8 723.3\n",
       " 718.5 767.9 664.5 637.1 651.2 655.9 657.4 770.6 378.8 698.6 654.4 417.8\n",
       " 546.  403.8 647.2 517.1 581.9 669.2 629.5 672.7 640.5 639.1 659.8 642.2\n",
       " 416.2 318.9 569.6 509.2 491.1 461.  314.1 246.7 151.2 102.4 110.5 148.\n",
       " 275.5 233.9  88.2  71.   64.1  31.8  31.6  12.9  25.3  20.   20.4   0.\n",
       "   0.    0.    0.    0.    0.    0.    0.    0.    0.    0.    0.    0. ]</td>\n",
       "      <td id=\"T_bcef9_row1_col1\" class=\"data row1 col1\" >[106.9 130.3 128.8  98.7  85.  126.2 109.2 144.6 130.3  92.9  84.3  96.9\n",
       " 121.3  73.9 109.   95.3  90.1  95.8  82.  112.4 108.9 103.1 108.   96.5\n",
       " 149.4 174.5 181.9 202.5 242.  330.1 375.8 399.2 428.6 325.8 256.3 334.8\n",
       " 306.5 367.2 286.  264.8 322.4 399.1 276.6 258.9 281.1 337.4 329.7 289.1\n",
       " 341.8 300.4 235.7 236.3 240.1 228.2 262.2 251.5 274.8 291.5 325.6 363.3\n",
       " 397.9 331.7 305.6 346.5 385.5 458.4 351.7 395.3 456.4 443.5 553.9 561.8\n",
       " 491.7 542.3 562.3 438.4 432.3 508.6 536.  448.1 435.7 538.2 436.5 433.3\n",
       " 701.6 682.1 580.8 544.6 561.5 655.9 533.5 414.3 399.7 353.7 311.2 230.4]</td>\n",
       "    </tr>\n",
       "  </tbody>\n",
       "</table>\n"
      ],
      "text/plain": [
       "<pandas.io.formats.style.Styler at 0x7f1645d5e7c0>"
      ]
     },
     "metadata": {},
     "output_type": "display_data"
    }
   ],
   "source": [
    "# Data exploration: look at the input data\n",
    "data = util.load_instances_data()\n",
    "display(data)"
   ]
  },
  {
   "cell_type": "markdown",
   "id": "3c62d807-6da6-4d06-b71e-fdea0b7dcf32",
   "metadata": {},
   "source": [
    "Since the objective of the two algorithms is to minimize the total energy cost, as input file we also have the grid electricity price at each our of the day"
   ]
  },
  {
   "cell_type": "code",
   "execution_count": 3,
   "id": "d6daadda-16fc-47f9-903a-e818d628217c",
   "metadata": {},
   "outputs": [
    {
     "data": {
      "text/html": [
       "<div>\n",
       "<style scoped>\n",
       "    .dataframe tbody tr th:only-of-type {\n",
       "        vertical-align: middle;\n",
       "    }\n",
       "\n",
       "    .dataframe tbody tr th {\n",
       "        vertical-align: top;\n",
       "    }\n",
       "\n",
       "    .dataframe thead th {\n",
       "        text-align: right;\n",
       "    }\n",
       "</style>\n",
       "<table border=\"1\" class=\"dataframe\">\n",
       "  <thead>\n",
       "    <tr style=\"text-align: right;\">\n",
       "      <th></th>\n",
       "      <th>Time</th>\n",
       "      <th>Price</th>\n",
       "    </tr>\n",
       "  </thead>\n",
       "  <tbody>\n",
       "    <tr>\n",
       "      <th>0</th>\n",
       "      <td>0</td>\n",
       "      <td>46.99</td>\n",
       "    </tr>\n",
       "    <tr>\n",
       "      <th>1</th>\n",
       "      <td>1</td>\n",
       "      <td>42.81</td>\n",
       "    </tr>\n",
       "    <tr>\n",
       "      <th>2</th>\n",
       "      <td>2</td>\n",
       "      <td>39.83</td>\n",
       "    </tr>\n",
       "    <tr>\n",
       "      <th>3</th>\n",
       "      <td>3</td>\n",
       "      <td>38.02</td>\n",
       "    </tr>\n",
       "    <tr>\n",
       "      <th>4</th>\n",
       "      <td>4</td>\n",
       "      <td>37.00</td>\n",
       "    </tr>\n",
       "  </tbody>\n",
       "</table>\n",
       "</div>"
      ],
      "text/plain": [
       "   Time  Price\n",
       "0     0  46.99\n",
       "1     1  42.81\n",
       "2     2  39.83\n",
       "3     3  38.02\n",
       "4     4  37.00"
      ]
     },
     "metadata": {},
     "output_type": "display_data"
    }
   ],
   "source": [
    "data = util.load_prices_data()\n",
    "display(data)"
   ]
  },
  {
   "cell_type": "markdown",
   "id": "48b734b0-04ac-4e50-9809-e4318128d34e",
   "metadata": {},
   "source": [
    "Each algorithm was then run on each instance 100 times, each time considering a different number of the configurable parameter (from 1 to 100 traces/scenarios). This value is taken directly from the HADA paper, according to which running the algorithms on each instance 100 times sufficiently explores the parameter space [Hada paper, 4]. Then, the training set of each algorithm will be of 3,000 records (100 runs x 30 instances)."
   ]
  },
  {
   "cell_type": "markdown",
   "id": "b302f4f4-0472-48c8-b1b4-1c3e96faaecd",
   "metadata": {},
   "source": [
    "### Measuring Carbon Emissions\n",
    "\n",
    "In order to extend HADA for taking into account sustainability, we need to measure the carbon emissions for running the algorithms during the benchmark phase. A simple tool to do so is [codecarbon](https://mlco2.github.io/codecarbon/index.html), which is a python package offering useful tools for tracking the emissions resulting from executing code execution.\n",
    "\n",
    "The CO2e emission tracking tool offered by codecarbon can be used in [different modalities](https://mlco2.github.io/codecarbon/usage.html): as an Explicit Object (instantiating a EmissionsTracker object and pass it as a parameter to function calls to start and stop the emissions tracking of the compute section), as a Context Manager (recommended for monitoring a specific code block) or as a Decorator (recommended for monitoring training functions). For example, let's track the emissions of running the ANTICIPATE algorithm. Let's say we would like to solve instance 5 with 4 scenarios:"
   ]
  },
  {
   "cell_type": "code",
   "execution_count": 4,
   "id": "76ca68ef-3fb4-4cb1-971b-08ca46795d73",
   "metadata": {},
   "outputs": [
    {
     "name": "stdout",
     "output_type": "stream",
     "text": [
      "Set parameter WLSAccessID\n",
      "Set parameter WLSSecret\n",
      "Set parameter LicenseID to value 2512647\n",
      "Academic license 2512647 - for non-commercial use only - registered to en___@studio.unibo.it\n",
      "The solution cost (in keuro) is: 370.29\n",
      "The runtime (in sec) is: 12.59\n",
      "Avg memory used (in MB) is: 139.02\n"
     ]
    }
   ],
   "source": [
    "# Tracking of the algorithms emissions\n",
    "util.online_ant(scenarios=4, instance=5, file='InstancesTest.csv')"
   ]
  }
 ],
 "metadata": {
  "kernelspec": {
   "display_name": "Python 3 (ipykernel)",
   "language": "python",
   "name": "python3"
  },
  "language_info": {
   "codemirror_mode": {
    "name": "ipython",
    "version": 3
   },
   "file_extension": ".py",
   "mimetype": "text/x-python",
   "name": "python",
   "nbconvert_exporter": "python",
   "pygments_lexer": "ipython3",
   "version": "3.9.20"
  }
 },
 "nbformat": 4,
 "nbformat_minor": 5
}
