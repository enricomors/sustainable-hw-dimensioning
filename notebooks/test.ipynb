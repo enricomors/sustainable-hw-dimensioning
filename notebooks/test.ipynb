{
 "cells": [
  {
   "cell_type": "markdown",
   "id": "60cbdfc0-3fa8-4a5c-9e4e-06be50dc9db2",
   "metadata": {},
   "source": [
    "Hello! This is a test python notebook!"
   ]
  },
  {
   "cell_type": "code",
   "execution_count": 1,
   "id": "32520014-b644-44ff-86f5-b735911cbc51",
   "metadata": {},
   "outputs": [
    {
     "name": "stdout",
     "output_type": "stream",
     "text": [
      "Hello World!\n"
     ]
    }
   ],
   "source": [
    "print(\"Hello World!\")"
   ]
  }
 ],
 "metadata": {
  "kernelspec": {
   "display_name": "Python 3 (ipykernel)",
   "language": "python",
   "name": "python3"
  },
  "language_info": {
   "codemirror_mode": {
    "name": "ipython",
    "version": 3
   },
   "file_extension": ".py",
   "mimetype": "text/x-python",
   "name": "python",
   "nbconvert_exporter": "python",
   "pygments_lexer": "ipython3",
   "version": "3.9.20"
  }
 },
 "nbformat": 4,
 "nbformat_minor": 5
}
